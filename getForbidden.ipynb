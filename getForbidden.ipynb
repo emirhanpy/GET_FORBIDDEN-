{
 "cells": [
  {
   "cell_type": "code",
   "execution_count": 1,
   "id": "18272151-7183-48ea-b67d-8841f33fe5f5",
   "metadata": {
    "tags": []
   },
   "outputs": [],
   "source": [
    "from bs4 import BeautifulSoup\n",
    "import requests"
   ]
  },
  {
   "cell_type": "code",
   "execution_count": 2,
   "id": "4fdec3ac-abc9-4341-a194-b0690178bde7",
   "metadata": {
    "tags": []
   },
   "outputs": [],
   "source": [
    "URL = \"https://www.hepsiburada.com/ara?q=monitor\""
   ]
  },
  {
   "cell_type": "code",
   "execution_count": 3,
   "id": "96ac13c7-33fc-4382-93df-a477da997c00",
   "metadata": {
    "tags": []
   },
   "outputs": [],
   "source": [
    "header = {'User-Agent':'Mozilla/5.0 (Windows NT 10.0; Win64; x64; rv:125.0) Gecko/20100101 Firefox/125.0'}\n",
    "def get_data(URL):\n",
    "    r_headers =  header\n",
    "    r = requests.get(URL, headers=r_headers)\n",
    "    return r"
   ]
  },
  {
   "cell_type": "code",
   "execution_count": 4,
   "id": "eb65e68f-1103-46d3-ae9d-19391a7412dd",
   "metadata": {
    "tags": []
   },
   "outputs": [],
   "source": [
    "def check_response(r):\n",
    "    if r.status_code == 200:\n",
    "        html_content = r.content\n",
    "        response = \"Your response is succesfully return.\"\n",
    "    else:\n",
    "        response = f\"There is an error.: {r.status_code}\"\n",
    "    return response"
   ]
  },
  {
   "cell_type": "code",
   "execution_count": 5,
   "id": "1c842254-8817-4f93-89fa-af666b82b285",
   "metadata": {
    "tags": []
   },
   "outputs": [
    {
     "data": {
      "text/plain": [
       "'Your response is succesfully return.'"
      ]
     },
     "execution_count": 5,
     "metadata": {},
     "output_type": "execute_result"
    }
   ],
   "source": [
    "r = get_data(URL)\n",
    "check_response(r)"
   ]
  }
 ],
 "metadata": {
  "kernelspec": {
   "display_name": "Python 3 (ipykernel)",
   "language": "python",
   "name": "python3"
  },
  "language_info": {
   "codemirror_mode": {
    "name": "ipython",
    "version": 3
   },
   "file_extension": ".py",
   "mimetype": "text/x-python",
   "name": "python",
   "nbconvert_exporter": "python",
   "pygments_lexer": "ipython3",
   "version": "3.11.5"
  }
 },
 "nbformat": 4,
 "nbformat_minor": 5
}
